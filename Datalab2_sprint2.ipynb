{
 "cells": [
  {
   "cell_type": "code",
   "execution_count": 1,
   "id": "2653dd8f",
   "metadata": {},
   "outputs": [],
   "source": [
    "dit_is = 'een_test'"
   ]
  },
  {
   "cell_type": "code",
   "execution_count": 2,
   "id": "dc445213",
   "metadata": {},
   "outputs": [
    {
     "data": {
      "text/plain": [
       "'een_test'"
      ]
     },
     "execution_count": 2,
     "metadata": {},
     "output_type": "execute_result"
    }
   ],
   "source": [
    "dit_is"
   ]
  },
  {
   "cell_type": "code",
   "execution_count": null,
   "id": "ae2d055c",
   "metadata": {},
   "outputs": [],
   "source": []
  }
 ],
 "metadata": {
  "kernelspec": {
   "display_name": "Python 3 (ipykernel)",
   "language": "python",
   "name": "python3"
  },
  "language_info": {
   "codemirror_mode": {
    "name": "ipython",
    "version": 3
   },
   "file_extension": ".py",
   "mimetype": "text/x-python",
   "name": "python",
   "nbconvert_exporter": "python",
   "pygments_lexer": "ipython3",
   "version": "3.9.12"
  }
 },
 "nbformat": 4,
 "nbformat_minor": 5
}
